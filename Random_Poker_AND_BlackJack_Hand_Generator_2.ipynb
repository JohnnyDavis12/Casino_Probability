{
 "cells": [
  {
   "cell_type": "code",
   "execution_count": 2,
   "metadata": {},
   "outputs": [],
   "source": [
    "import pandas as pd\n",
    "import numpy as np"
   ]
  },
  {
   "cell_type": "code",
   "execution_count": 59,
   "metadata": {},
   "outputs": [],
   "source": [
    "Suits = ['Spades','Clubs', 'Hearts', 'Diamonds']\n",
    "Rank_values = ['Ace','2','3','4','5','6','7','8','9','10','Jack','Queen','King']\n",
    "Possible_Values = [1,2,3,4,5,6,7,8,9,10,10,10,10]"
   ]
  },
  {
   "cell_type": "code",
   "execution_count": null,
   "metadata": {},
   "outputs": [],
   "source": [
    "#BlackJack\n",
    "# Player Values\n",
    "BJ_Random_Suit = np.random.choice(Suits)\n",
    "BJ_Random_Suit_1 = np.random.choice(Suits)\n",
    "BJ_Random_Suit_2 = np.random.choice(Suits)\n",
    "BJ_Random_Suit_3 = np.random.choice(Suits)\n",
    "BJ_Random_Rank = np.random.choice(Rank_values)\n",
    "BJ_Random_Rank_1 = np.random.choice(Rank_values)\n",
    "BJ_Random_Rank_2 = np.random.choice(Rank_values)\n",
    "BJ_Random_Rank_3 = np.random.choice(Rank_values)\n",
    "BJ_Random_Card = BJ_Random_Rank + ' of ' + BJ_Random_Suit\n",
    "BJ_Random_Card_1 = BJ_Random_Rank_1 + ' of ' + BJ_Random_Suit_1\n",
    "BJ_Random_Card_2 = BJ_Random_Rank_2 + ' of ' + BJ_Random_Suit_2\n",
    "BJ_Random_Card_3 = BJ_Random_Rank_3 + ' of ' + BJ_Random_Suit_3\n",
    "Player_Hand = BJ_Random_Card + \" | \" + BJ_Random_Card_1\n",
    "Player_Add = BJ_Random_Card_2\n",
    "Player_Add_2 = BJ_Random_Card_3\n",
    "\n",
    "\n",
    "#Dealer Value 1\n",
    "BJ_Random_Suit = np.random.choice(Suits)\n",
    "BJ_Random_Suit_1 = np.random.choice(Suits)\n",
    "BJ_Random_Rank = np.random.choice(Rank_values)\n",
    "BJ_Random_Rank_1 = np.random.choice(Rank_values)\n",
    "BJ_Random_Card = BJ_Random_Rank + ' of ' + BJ_Random_Suit\n",
    "Dealer_Value_1=BJ_Random_Card \n",
    "\n",
    "#Dealer Value 2\n",
    "BJ_Random_Suit = np.random.choice(Suits)\n",
    "BJ_Random_Suit_1 = np.random.choice(Suits)\n",
    "BJ_Random_Rank = np.random.choice(Rank_values)\n",
    "BJ_Random_Rank_1 = np.random.choice(Rank_values)\n",
    "BJ_Random_Card = BJ_Random_Rank + ' of ' + BJ_Random_Suit\n",
    "Dealer_Value_2=BJ_Random_Card \n",
    "#Dealer_Value_2\n",
    "\n",
    "#Dealer Value 3\n",
    "#If Value 1 & Value 2 = <16\n",
    "\n",
    "BJ_Random_Suit = np.random.choice(Suits)\n",
    "BJ_Random_Suit_1 = np.random.choice(Suits)\n",
    "BJ_Random_Rank = np.random.choice(Rank_values)\n",
    "BJ_Random_Rank_1 = np.random.choice(Rank_values)\n",
    "BJ_Random_Card = BJ_Random_Rank + ' of ' + BJ_Random_Suit\n",
    "Dealer_Value_3 = BJ_Random_Card \n",
    "#Dealer_Value_3\n",
    "\n",
    "#Dealer Value 4\n",
    "#If Value 1 & Value 2 & Value 3 = <16\n",
    "\n",
    "BJ_Random_Suit = np.random.choice(Suits)\n",
    "BJ_Random_Suit_1 = np.random.choice(Suits)\n",
    "BJ_Random_Rank = np.random.choice(Rank_values)\n",
    "BJ_Random_Rank_1 = np.random.choice(Rank_values)\n",
    "BJ_Random_Card = BJ_Random_Rank + ' of ' + BJ_Random_Suit\n",
    "Dealer_Value_4=BJ_Random_Card \n",
    "#Dealer_Value_4\n",
    "\n",
    "\n",
    "print(\"Player Cards:\",Player_Hand)\n",
    "print(\"Dealer Shows:\",Dealer_Value_1)\n",
    "\n",
    "H_S = input(\"Hit or Stand?(Player)\")\n",
    "if H_S == \"Hit\":\n",
    "    print(\"Player Cards:\",Player_Hand,\"|\",BJ_Random_Card_2)\n",
    "    print(\"Dealer Shows:\",Dealer_Value_1)\n",
    "H_S_2 = input(\"Hit or Stand?(Player)\")\n",
    "if H_S_2 == \"Hit\":\n",
    "    print(\"Player Cards:\",Player_Hand,\"|\",BJ_Random_Card_2,\"|\",BJ_Random_Card_3)\n",
    "    print(\"Dealer Shows:\",Dealer_Value_1)\n",
    "\n",
    "Final_Dealer = (\"Dealer Shows:\",Dealer_Value_1,\"|\",Dealer_Value_2)\n",
    "print(Final_Dealer)\n",
    "\n",
    "H_S_Dealer = input(\"Hit or Stand? (Dealer)\")\n",
    "if H_S_Dealer == \"Hit\":\n",
    "    print(\"Dealer Shows:\",Dealer_Value_1,\"|\",Dealer_Value_2,\"|\",Dealer_Value_3)\n",
    "if H_S_Dealer == \"Stand\":\n",
    "    print(\"Dealer Shows:\",Dealer_Value_1,\"|\",Dealer_Value_2)\n",
    "H_S_Dealer_2 = input(\"Hit or Stand? (Dealer)\")\n",
    "if H_S_Dealer_2 == \"Hit\":\n",
    "    print(\"Dealer Shows:\",Dealer_Value_1,\"|\",Dealer_Value_2,\"|\",Dealer_Value_3,\"|\",Dealer_Value_4)\n",
    "if H_S_Dealer_2 == \"Stand\":\n",
    "    print(\"Dealer Shows:\",Dealer_Value_1,\"|\",Dealer_Value_2,\"|\",Dealer_Value_3)"
   ]
  },
  {
   "cell_type": "code",
   "execution_count": null,
   "metadata": {},
   "outputs": [],
   "source": [
    "H_S = input(\"Hit or Stand?(Player)\")\n",
    "if H_S == \"Hit\":\n",
    "    print(\"Player Cards:\",Player_Hand,\"|\",BJ_Random_Card_2)\n",
    "    print(\"Dealer Shows:\",Dealer_Value_1)\n",
    "H_S_2 = input(\"Hit or Stand?(Player)\")\n",
    "if H_S_2 == \"Hit\":\n",
    "    print(\"Player Cards:\",Player_Hand,\"|\",BJ_Random_Card_2,\"|\",BJ_Random_Card_3)\n",
    "    print(\"Dealer Shows:\",Dealer_Value_1)\n",
    "Final_Dealer = (\"Dealer Shows:\",Dealer_Value_1,\"|\",Dealer_Value_2)\n",
    "H_S_2 = input(\"Hit or Stand?\")\n",
    "if H_S_2 == \"Hit\":\n",
    "    print(\"Player Cards:\",Player_Hand,\"|\",BJ_Random_Card_2,\"|\",BJ_Random_Card_3)\n",
    "    Print(\"Dealer Shows:\",Dealer_Value_1)\n",
    "print(\"Player Cards:\",Player_Hand)\n",
    "print(\"Dealer Shows:\",Dealer_Value_1)\n"
   ]
  },
  {
   "cell_type": "code",
   "execution_count": null,
   "metadata": {},
   "outputs": [],
   "source": [
    "Final_Dealer "
   ]
  },
  {
   "cell_type": "code",
   "execution_count": null,
   "metadata": {},
   "outputs": [],
   "source": [
    "#FINAL DEALER\n",
    "H_S_Dealer = input(\"Hit or Stand? (Dealer)\")\n",
    "if H_S_Dealer == \"Hit\":\n",
    "    print(\"Dealer Shows:\",Dealer_Value_1,\"|\",Dealer_Value_2,\"|\",Dealer_Value_3)\n",
    "if H_S_Dealer == \"Stand\":\n",
    "    print(\"Dealer Shows:\",Dealer_Value_1,\"|\",Dealer_Value_2)\n",
    "H_S_Dealer_2 = input(\"Hit or Stand? (Dealer)\")\n",
    "if H_S_Dealer_2 == \"Hit\":\n",
    "    print(\"Dealer Shows:\",Dealer_Value_1,\"|\",Dealer_Value_2,\"|\",Dealer_Value_3,\"|\",Dealer_Value_4)\n",
    "if H_S_Dealer_2 == \"Stand\":\n",
    "    print(\"Dealer Shows:\",Dealer_Value_1,\"|\",Dealer_Value_2,\"|\",Dealer_Value_3)"
   ]
  },
  {
   "cell_type": "code",
   "execution_count": 68,
   "metadata": {},
   "outputs": [],
   "source": [
    "#Dealer Value 1\n",
    "BJ_Random_Suit = np.random.choice(Suits)\n",
    "BJ_Random_Suit_1 = np.random.choice(Suits)\n",
    "BJ_Random_Rank = np.random.choice(Rank_values)\n",
    "BJ_Random_Rank_1 = np.random.choice(Rank_values)\n",
    "BJ_Random_Card = BJ_Random_Rank + ' of ' + BJ_Random_Suit\n",
    "Dealer_Value_1=BJ_Random_Card \n",
    "#Dealer_Value_1"
   ]
  },
  {
   "cell_type": "code",
   "execution_count": null,
   "metadata": {},
   "outputs": [],
   "source": [
    "#Dealer Value 2\n",
    "BJ_Random_Suit = np.random.choice(Suits)\n",
    "BJ_Random_Suit_1 = np.random.choice(Suits)\n",
    "BJ_Random_Rank = np.random.choice(Rank_values)\n",
    "BJ_Random_Rank_1 = np.random.choice(Rank_values)\n",
    "BJ_Random_Card = BJ_Random_Rank + ' of ' + BJ_Random_Suit\n",
    "Dealer_Value_2=BJ_Random_Card \n",
    "#Dealer_Value_2"
   ]
  },
  {
   "cell_type": "code",
   "execution_count": null,
   "metadata": {},
   "outputs": [],
   "source": [
    "#Dealer Value 3\n",
    "#If Value 1 & Value 2 = <16\n",
    "\n",
    "BJ_Random_Suit = np.random.choice(Suits)\n",
    "BJ_Random_Suit_1 = np.random.choice(Suits)\n",
    "BJ_Random_Rank = np.random.choice(Rank_values)\n",
    "BJ_Random_Rank_1 = np.random.choice(Rank_values)\n",
    "BJ_Random_Card = BJ_Random_Rank + ' of ' + BJ_Random_Suit\n",
    "Dealer_Value_3 = BJ_Random_Card \n",
    "#Dealer_Value_3"
   ]
  },
  {
   "cell_type": "code",
   "execution_count": null,
   "metadata": {},
   "outputs": [],
   "source": [
    "#Dealer Value 4\n",
    "#If Value 1 & Value 2 & Value 3 = <16\n",
    "\n",
    "BJ_Random_Suit = np.random.choice(Suits)\n",
    "BJ_Random_Suit_1 = np.random.choice(Suits)\n",
    "BJ_Random_Rank = np.random.choice(Rank_values)\n",
    "BJ_Random_Rank_1 = np.random.choice(Rank_values)\n",
    "BJ_Random_Card = BJ_Random_Rank + ' of ' + BJ_Random_Suit\n",
    "Dealer_Value_4=BJ_Random_Card \n",
    "#Dealer_Value_4"
   ]
  },
  {
   "cell_type": "code",
   "execution_count": null,
   "metadata": {},
   "outputs": [],
   "source": [
    "#Poker\n",
    "#Player Value\n",
    "Random_Suit = np.random.choice(Suits)\n",
    "Random_Suit_1 = np.random.choice(Suits)\n",
    "Random_Rank = np.random.choice(Rank_values)\n",
    "Random_Rank_1 = np.random.choice(Rank_values)\n",
    "Random_Card = Random_Rank + ' of ' + Random_Suit\n",
    "Random_Card_1 = Random_Rank_1 + ' of ' + Random_Suit_1\n",
    "Random_Card + \" | \" + Random_Card_1"
   ]
  },
  {
   "cell_type": "code",
   "execution_count": null,
   "metadata": {},
   "outputs": [],
   "source": [
    "#Poker\n",
    "#Table Values\n",
    "Dealer_Random_Suit = np.random.choice(Suits)\n",
    "Dealer_Random_Suit_1 = np.random.choice(Suits)\n",
    "Dealer_Random_Suit_2 = np.random.choice(Suits)\n",
    "Dealer_Random_Suit_3 = np.random.choice(Suits)\n",
    "Dealer_Random_Suit_4 = np.random.choice(Suits)\n",
    "\n",
    "Dealer_Random_Rank = np.random.choice(Rank_values)\n",
    "Dealer_Random_Rank_1 = np.random.choice(Rank_values)\n",
    "Dealer_Random_Rank_2 = np.random.choice(Rank_values)\n",
    "Dealer_Random_Rank_3 = np.random.choice(Rank_values)\n",
    "Dealer_Random_Rank_4 = np.random.choice(Rank_values)\n",
    "\n",
    "Dealer_Random_Card = Dealer_Random_Rank + ' of ' + Dealer_Random_Suit\n",
    "Dealer_Random_Card_1 = Dealer_Random_Rank_1 + ' of ' + Dealer_Random_Suit_1\n",
    "Dealer_Random_Card_2 = Dealer_Random_Rank_2 + ' of ' + Dealer_Random_Suit_2\n",
    "Dealer_Random_Card_3 = Dealer_Random_Rank_3 + ' of ' + Dealer_Random_Suit_3\n",
    "Dealer_Random_Card_4 = Dealer_Random_Rank_4 + ' of ' + Dealer_Random_Suit_4\n",
    "Dealer_Random_Card + \" | \" + Dealer_Random_Card_1 + \" | \" + Dealer_Random_Card_2 + \" | \" + Dealer_Random_Card_3 + \" | \" + Dealer_Random_Card_4"
   ]
  }
 ],
 "metadata": {
  "kernelspec": {
   "display_name": "Python 3.11.1 64-bit",
   "language": "python",
   "name": "python3"
  },
  "language_info": {
   "codemirror_mode": {
    "name": "ipython",
    "version": 3
   },
   "file_extension": ".py",
   "mimetype": "text/x-python",
   "name": "python",
   "nbconvert_exporter": "python",
   "pygments_lexer": "ipython3",
   "version": "3.11.1"
  },
  "orig_nbformat": 4,
  "vscode": {
   "interpreter": {
    "hash": "aee8b7b246df8f9039afb4144a1f6fd8d2ca17a180786b69acc140d282b71a49"
   }
  }
 },
 "nbformat": 4,
 "nbformat_minor": 2
}
